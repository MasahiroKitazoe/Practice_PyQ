{
 "cells": [
  {
   "cell_type": "markdown",
   "metadata": {},
   "source": [
    "## 主成分分析\n",
    "\n",
    "- 画像などのデータは、次元数が多くなりがち\n",
    "- あまり重要でないデータのために、計算量が取られるのは避けたい\n",
    "- 有用な情報をなるべく残したままデータ量を削減する（主成分分析）"
   ]
  },
  {
   "cell_type": "code",
   "execution_count": 2,
   "metadata": {
    "collapsed": true
   },
   "outputs": [],
   "source": [
    "# # 主成分分析で200×784→200×200に変換\n",
    "# from sklearn.decomposition import PCA\n",
    "\n",
    "# pca = PCA(200)\n",
    "# result = pca.fit(data) # resultとpcaは同じものです\n",
    "# trans_data = result.transform(data)\n",
    "# trans_data.shape"
   ]
  },
  {
   "cell_type": "code",
   "execution_count": 3,
   "metadata": {
    "collapsed": true
   },
   "outputs": [],
   "source": [
    "# trans_data = pca.fit_transform(data)\n",
    "# trans_data.shape"
   ]
  },
  {
   "cell_type": "code",
   "execution_count": 4,
   "metadata": {
    "collapsed": true
   },
   "outputs": [],
   "source": [
    "# # i番目の主成分ベクトルを描画する\n",
    "# def show_image(result, i):\n",
    "#     plt.imshow(result.components_[i].reshape(28, 28), cmap='gray')"
   ]
  },
  {
   "cell_type": "code",
   "execution_count": 5,
   "metadata": {
    "collapsed": true
   },
   "outputs": [],
   "source": [
    "# show_image(result, 0) # 第1主成分ベクトル"
   ]
  },
  {
   "cell_type": "code",
   "execution_count": null,
   "metadata": {
    "collapsed": true
   },
   "outputs": [],
   "source": []
  }
 ],
 "metadata": {
  "kernelspec": {
   "display_name": "Python 3",
   "language": "python",
   "name": "python3"
  },
  "language_info": {
   "codemirror_mode": {
    "name": "ipython",
    "version": 3
   },
   "file_extension": ".py",
   "mimetype": "text/x-python",
   "name": "python",
   "nbconvert_exporter": "python",
   "pygments_lexer": "ipython3",
   "version": "3.6.1"
  }
 },
 "nbformat": 4,
 "nbformat_minor": 2
}
