{
 "cells": [
  {
   "cell_type": "markdown",
   "metadata": {},
   "source": [
    "- Numpyで商品をレコメンドするプログラムを書いてみよう"
   ]
  },
  {
   "cell_type": "markdown",
   "metadata": {},
   "source": [
    "#### 協調フィルタリング\n",
    "\n",
    "購入履歴が似ている顧客を探し、その顧客が購入している商品を参考にする"
   ]
  },
  {
   "cell_type": "code",
   "execution_count": 18,
   "metadata": {},
   "outputs": [],
   "source": [
    "# import numpy as np\n",
    "\n",
    "# # 顧客ごと商品ごとの販売実績を行列の読込\n",
    "# data0 = np.load('dataset/log_sale.npy')\n",
    "# data0.shape  # 顧客数と商品数\n",
    "\n",
    "# (20, 30)"
   ]
  },
  {
   "cell_type": "code",
   "execution_count": 26,
   "metadata": {
    "collapsed": true
   },
   "outputs": [],
   "source": [
    "# # 購入数が3以上の顧客\n",
    "# data1 = data0[data0.sum(1) >= 3]\n",
    "# data1.sum(1)"
   ]
  },
  {
   "cell_type": "code",
   "execution_count": 19,
   "metadata": {},
   "outputs": [],
   "source": [
    "# # 商品数\n",
    "# num = data1.shape[1]"
   ]
  },
  {
   "cell_type": "code",
   "execution_count": 20,
   "metadata": {
    "collapsed": true
   },
   "outputs": [],
   "source": [
    "# # 相関行列から、target_id行目の相関係数ベクトルの取得\n",
    "# target_id = 0  # レコメンド対象の顧客\n",
    "# data2 = np.corrcoef(data1)[target_id]\n",
    "# data2"
   ]
  },
  {
   "cell_type": "code",
   "execution_count": 21,
   "metadata": {
    "collapsed": true
   },
   "outputs": [],
   "source": [
    "# # 相関係数の高い順のインデックス取得\n",
    "# data3 = (-data2).argsort()\n",
    "# data3"
   ]
  },
  {
   "cell_type": "code",
   "execution_count": 22,
   "metadata": {
    "collapsed": true
   },
   "outputs": [],
   "source": [
    "# # 参考顧客の選択\n",
    "# ref_id = data3[1]\n",
    "# ref_id"
   ]
  },
  {
   "cell_type": "code",
   "execution_count": 23,
   "metadata": {},
   "outputs": [],
   "source": [
    "# # 商品番号行列の作成\n",
    "# data4 = data1 * range(1, num + 1)\n",
    "# data4[:2]  # 最初の2人"
   ]
  },
  {
   "cell_type": "code",
   "execution_count": 24,
   "metadata": {
    "collapsed": true
   },
   "outputs": [],
   "source": [
    "# # 参考顧客との共通部分\n",
    "# data5 = np.intersect1d(data4[ref_id], data4[target_id])\n",
    "# data5"
   ]
  },
  {
   "cell_type": "code",
   "execution_count": 25,
   "metadata": {
    "collapsed": true
   },
   "outputs": [],
   "source": [
    "# # 参考顧客との差集合\n",
    "# data6 = np.setdiff1d(data4[ref_id], data4[target_id])\n",
    "# data6  # レコメンド商品番号"
   ]
  },
  {
   "cell_type": "code",
   "execution_count": null,
   "metadata": {
    "collapsed": true
   },
   "outputs": [],
   "source": []
  }
 ],
 "metadata": {
  "kernelspec": {
   "display_name": "Python 3",
   "language": "python",
   "name": "python3"
  },
  "language_info": {
   "codemirror_mode": {
    "name": "ipython",
    "version": 3
   },
   "file_extension": ".py",
   "mimetype": "text/x-python",
   "name": "python",
   "nbconvert_exporter": "python",
   "pygments_lexer": "ipython3",
   "version": "3.6.1"
  }
 },
 "nbformat": 4,
 "nbformat_minor": 2
}
