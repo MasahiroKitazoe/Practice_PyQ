{
 "cells": [
  {
   "cell_type": "code",
   "execution_count": 1,
   "metadata": {},
   "outputs": [
    {
     "data": {
      "text/html": [
       "<div>\n",
       "<style>\n",
       "    .dataframe thead tr:only-child th {\n",
       "        text-align: right;\n",
       "    }\n",
       "\n",
       "    .dataframe thead th {\n",
       "        text-align: left;\n",
       "    }\n",
       "\n",
       "    .dataframe tbody tr th {\n",
       "        vertical-align: top;\n",
       "    }\n",
       "</style>\n",
       "<table border=\"1\" class=\"dataframe\">\n",
       "  <thead>\n",
       "    <tr style=\"text-align: right;\">\n",
       "      <th></th>\n",
       "      <th>Recruit</th>\n",
       "      <th>Custom</th>\n",
       "      <th>Shirt</th>\n",
       "      <th>Accessory</th>\n",
       "    </tr>\n",
       "  </thead>\n",
       "  <tbody>\n",
       "    <tr>\n",
       "      <th>0</th>\n",
       "      <td>0</td>\n",
       "      <td>57600</td>\n",
       "      <td>7470</td>\n",
       "      <td>1039</td>\n",
       "    </tr>\n",
       "    <tr>\n",
       "      <th>1</th>\n",
       "      <td>4780</td>\n",
       "      <td>69700</td>\n",
       "      <td>5720</td>\n",
       "      <td>0</td>\n",
       "    </tr>\n",
       "    <tr>\n",
       "      <th>2</th>\n",
       "      <td>0</td>\n",
       "      <td>44000</td>\n",
       "      <td>0</td>\n",
       "      <td>331</td>\n",
       "    </tr>\n",
       "    <tr>\n",
       "      <th>3</th>\n",
       "      <td>8180</td>\n",
       "      <td>43200</td>\n",
       "      <td>5910</td>\n",
       "      <td>775</td>\n",
       "    </tr>\n",
       "    <tr>\n",
       "      <th>4</th>\n",
       "      <td>46980</td>\n",
       "      <td>0</td>\n",
       "      <td>3270</td>\n",
       "      <td>499</td>\n",
       "    </tr>\n",
       "  </tbody>\n",
       "</table>\n",
       "</div>"
      ],
      "text/plain": [
       "   Recruit  Custom  Shirt  Accessory\n",
       "0        0   57600   7470       1039\n",
       "1     4780   69700   5720          0\n",
       "2        0   44000      0        331\n",
       "3     8180   43200   5910        775\n",
       "4    46980       0   3270        499"
      ]
     },
     "execution_count": 1,
     "metadata": {},
     "output_type": "execute_result"
    }
   ],
   "source": [
    "import pandas as pd\n",
    "df = pd.read_csv('./dataset/clustering.csv')\n",
    "df.head()"
   ]
  },
  {
   "cell_type": "code",
   "execution_count": 2,
   "metadata": {},
   "outputs": [
    {
     "data": {
      "text/html": [
       "<div>\n",
       "<style>\n",
       "    .dataframe thead tr:only-child th {\n",
       "        text-align: right;\n",
       "    }\n",
       "\n",
       "    .dataframe thead th {\n",
       "        text-align: left;\n",
       "    }\n",
       "\n",
       "    .dataframe tbody tr th {\n",
       "        vertical-align: top;\n",
       "    }\n",
       "</style>\n",
       "<table border=\"1\" class=\"dataframe\">\n",
       "  <thead>\n",
       "    <tr style=\"text-align: right;\">\n",
       "      <th></th>\n",
       "      <th>Recruit</th>\n",
       "      <th>Custom</th>\n",
       "      <th>Shirt</th>\n",
       "      <th>Accessory</th>\n",
       "    </tr>\n",
       "  </thead>\n",
       "  <tbody>\n",
       "    <tr>\n",
       "      <th>count</th>\n",
       "      <td>100.000000</td>\n",
       "      <td>100.000000</td>\n",
       "      <td>100.00000</td>\n",
       "      <td>100.000000</td>\n",
       "    </tr>\n",
       "    <tr>\n",
       "      <th>mean</th>\n",
       "      <td>23931.200000</td>\n",
       "      <td>30164.000000</td>\n",
       "      <td>3229.90000</td>\n",
       "      <td>407.480000</td>\n",
       "    </tr>\n",
       "    <tr>\n",
       "      <th>std</th>\n",
       "      <td>20366.635485</td>\n",
       "      <td>23503.623275</td>\n",
       "      <td>2741.82034</td>\n",
       "      <td>496.458559</td>\n",
       "    </tr>\n",
       "    <tr>\n",
       "      <th>min</th>\n",
       "      <td>0.000000</td>\n",
       "      <td>0.000000</td>\n",
       "      <td>0.00000</td>\n",
       "      <td>0.000000</td>\n",
       "    </tr>\n",
       "    <tr>\n",
       "      <th>25%</th>\n",
       "      <td>0.000000</td>\n",
       "      <td>13300.000000</td>\n",
       "      <td>0.00000</td>\n",
       "      <td>0.000000</td>\n",
       "    </tr>\n",
       "    <tr>\n",
       "      <th>50%</th>\n",
       "      <td>27880.000000</td>\n",
       "      <td>27550.000000</td>\n",
       "      <td>3350.00000</td>\n",
       "      <td>249.000000</td>\n",
       "    </tr>\n",
       "    <tr>\n",
       "      <th>75%</th>\n",
       "      <td>39955.000000</td>\n",
       "      <td>46150.000000</td>\n",
       "      <td>4860.00000</td>\n",
       "      <td>628.250000</td>\n",
       "    </tr>\n",
       "    <tr>\n",
       "      <th>max</th>\n",
       "      <td>65180.000000</td>\n",
       "      <td>83700.000000</td>\n",
       "      <td>10750.00000</td>\n",
       "      <td>2463.000000</td>\n",
       "    </tr>\n",
       "  </tbody>\n",
       "</table>\n",
       "</div>"
      ],
      "text/plain": [
       "            Recruit        Custom        Shirt    Accessory\n",
       "count    100.000000    100.000000    100.00000   100.000000\n",
       "mean   23931.200000  30164.000000   3229.90000   407.480000\n",
       "std    20366.635485  23503.623275   2741.82034   496.458559\n",
       "min        0.000000      0.000000      0.00000     0.000000\n",
       "25%        0.000000  13300.000000      0.00000     0.000000\n",
       "50%    27880.000000  27550.000000   3350.00000   249.000000\n",
       "75%    39955.000000  46150.000000   4860.00000   628.250000\n",
       "max    65180.000000  83700.000000  10750.00000  2463.000000"
      ]
     },
     "execution_count": 2,
     "metadata": {},
     "output_type": "execute_result"
    }
   ],
   "source": [
    "df.describe()"
   ]
  },
  {
   "cell_type": "code",
   "execution_count": 3,
   "metadata": {},
   "outputs": [
    {
     "data": {
      "text/html": [
       "<div>\n",
       "<style>\n",
       "    .dataframe thead tr:only-child th {\n",
       "        text-align: right;\n",
       "    }\n",
       "\n",
       "    .dataframe thead th {\n",
       "        text-align: left;\n",
       "    }\n",
       "\n",
       "    .dataframe tbody tr th {\n",
       "        vertical-align: top;\n",
       "    }\n",
       "</style>\n",
       "<table border=\"1\" class=\"dataframe\">\n",
       "  <thead>\n",
       "    <tr style=\"text-align: right;\">\n",
       "      <th></th>\n",
       "      <th>Recruit</th>\n",
       "      <th>Custom</th>\n",
       "      <th>Shirt</th>\n",
       "      <th>Accessory</th>\n",
       "    </tr>\n",
       "  </thead>\n",
       "  <tbody>\n",
       "    <tr>\n",
       "      <th>Recruit</th>\n",
       "      <td>1.000000</td>\n",
       "      <td>-0.554173</td>\n",
       "      <td>-0.405148</td>\n",
       "      <td>-0.283262</td>\n",
       "    </tr>\n",
       "    <tr>\n",
       "      <th>Custom</th>\n",
       "      <td>-0.554173</td>\n",
       "      <td>1.000000</td>\n",
       "      <td>0.371186</td>\n",
       "      <td>0.191235</td>\n",
       "    </tr>\n",
       "    <tr>\n",
       "      <th>Shirt</th>\n",
       "      <td>-0.405148</td>\n",
       "      <td>0.371186</td>\n",
       "      <td>1.000000</td>\n",
       "      <td>0.130626</td>\n",
       "    </tr>\n",
       "    <tr>\n",
       "      <th>Accessory</th>\n",
       "      <td>-0.283262</td>\n",
       "      <td>0.191235</td>\n",
       "      <td>0.130626</td>\n",
       "      <td>1.000000</td>\n",
       "    </tr>\n",
       "  </tbody>\n",
       "</table>\n",
       "</div>"
      ],
      "text/plain": [
       "            Recruit    Custom     Shirt  Accessory\n",
       "Recruit    1.000000 -0.554173 -0.405148  -0.283262\n",
       "Custom    -0.554173  1.000000  0.371186   0.191235\n",
       "Shirt     -0.405148  0.371186  1.000000   0.130626\n",
       "Accessory -0.283262  0.191235  0.130626   1.000000"
      ]
     },
     "execution_count": 3,
     "metadata": {},
     "output_type": "execute_result"
    }
   ],
   "source": [
    "df.corr()"
   ]
  },
  {
   "cell_type": "code",
   "execution_count": 4,
   "metadata": {},
   "outputs": [
    {
     "data": {
      "text/plain": [
       "(array([[  3878.18181818,  48025.        ,   4523.18181818,    611.47727273],\n",
       "        [ 39687.14285714,  16130.35714286,   2213.75      ,    247.19642857]]),\n",
       " array([0, 0, 0, 0, 1, 1, 1, 1, 0, 1, 1, 1, 0, 1, 0, 1, 0, 1, 1, 1, 0, 0, 1,\n",
       "        1, 1, 0, 1, 1, 1, 1, 0, 1, 0, 0, 1, 1, 0, 0, 0, 1, 1, 1, 1, 0, 0, 1,\n",
       "        1, 0, 1, 1, 1, 1, 1, 0, 1, 1, 1, 0, 0, 1, 1, 0, 0, 1, 1, 1, 0, 1, 1,\n",
       "        1, 1, 1, 0, 0, 1, 0, 0, 0, 1, 0, 0, 0, 1, 0, 0, 0, 1, 0, 0, 1, 0, 0,\n",
       "        0, 1, 1, 1, 1, 1, 0, 0], dtype=int32),\n",
       " 39727838655.12175)"
      ]
     },
     "execution_count": 4,
     "metadata": {},
     "output_type": "execute_result"
    }
   ],
   "source": [
    "# クラスタリングする\n",
    "from sklearn.cluster import k_means\n",
    "\n",
    "n_clusters = 2\n",
    "centroid, label, inertia = k_means(df, n_clusters, random_state=0)\n",
    "centroid, label, inertia"
   ]
  },
  {
   "cell_type": "code",
   "execution_count": 5,
   "metadata": {},
   "outputs": [
    {
     "data": {
      "text/plain": [
       "Recruit       3878.181818\n",
       "Custom       48025.000000\n",
       "Shirt         4523.181818\n",
       "Accessory      611.477273\n",
       "dtype: float64"
      ]
     },
     "execution_count": 5,
     "metadata": {},
     "output_type": "execute_result"
    }
   ],
   "source": [
    "# ラベル0を取り出す\n",
    "df0 = df[label == 0]\n",
    "df0_mean = df0.mean()\n",
    "df0_mean"
   ]
  },
  {
   "cell_type": "code",
   "execution_count": 6,
   "metadata": {},
   "outputs": [
    {
     "data": {
      "text/plain": [
       "Recruit      39687.142857\n",
       "Custom       16130.357143\n",
       "Shirt         2213.750000\n",
       "Accessory      247.196429\n",
       "dtype: float64"
      ]
     },
     "execution_count": 6,
     "metadata": {},
     "output_type": "execute_result"
    }
   ],
   "source": [
    "# ラベル1を取り出す\n",
    "df1 = df[label == 1]\n",
    "df1_mean = df1.mean()\n",
    "df1_mean"
   ]
  },
  {
   "cell_type": "markdown",
   "metadata": {},
   "source": [
    "### k-means法\n",
    "\n",
    "- n_clustersにクラスター数を指定する\n",
    "\n",
    "```\n",
    "from sklearn.cluster import KMeans\n",
    "km = KMeans(n_clusters, random_state=0) \n",
    "km.fit(df) \n",
    "km.predict(df) \n",
    "```"
   ]
  },
  {
   "cell_type": "markdown",
   "metadata": {},
   "source": [
    "#### プロットする"
   ]
  },
  {
   "cell_type": "code",
   "execution_count": 7,
   "metadata": {},
   "outputs": [
    {
     "data": {
      "image/png": "[encoded data removed]",
      "text/plain": [
       "<matplotlib.figure.Figure at 0x111b70ac8>"
      ]
     },
     "metadata": {},
     "output_type": "display_data"
    }
   ],
   "source": [
    "%matplotlib inline\n",
    "import matplotlib.pyplot as plt\n",
    "\n",
    "# RecruitとCustomの散布図\n",
    "plt.scatter(df0.Recruit, df0.Custom)\n",
    "plt.scatter(df1.Recruit, df1.Custom)\n",
    "plt.xlabel('Recruit')\n",
    "plt.ylabel('Custom');"
   ]
  },
  {
   "cell_type": "code",
   "execution_count": 8,
   "metadata": {},
   "outputs": [
    {
     "data": {
      "image/png": "[encoded data removed]",
      "text/plain": [
       "<matplotlib.figure.Figure at 0x111b709e8>"
      ]
     },
     "metadata": {},
     "output_type": "display_data"
    }
   ],
   "source": [
    "# ShirtとAccessorの散布図\n",
    "plt.scatter(df0.Shirt, df0.Accessory)\n",
    "plt.scatter(df1.Shirt, df1.Accessory)\n",
    "plt.xlabel('Shirt')\n",
    "plt.ylabel('Accessory');"
   ]
  },
  {
   "cell_type": "code",
   "execution_count": 9,
   "metadata": {},
   "outputs": [
    {
     "data": {
      "image/png": "[encoded data removed]",
      "text/plain": [
       "<matplotlib.figure.Figure at 0x1161b3f98>"
      ]
     },
     "metadata": {},
     "output_type": "display_data"
    }
   ],
   "source": [
    "# ラベル0の箱ひげ図\n",
    "plt.ylim(0, 90000)\n",
    "df0.boxplot();"
   ]
  },
  {
   "cell_type": "code",
   "execution_count": 10,
   "metadata": {},
   "outputs": [
    {
     "data": {
      "image/png": "[encoded data removed]",
      "text/plain": [
       "<matplotlib.figure.Figure at 0x11634bba8>"
      ]
     },
     "metadata": {},
     "output_type": "display_data"
    }
   ],
   "source": [
    "# ラベル1の箱ひげ図\n",
    "plt.ylim(0, 90000)\n",
    "df1.boxplot();"
   ]
  },
  {
   "cell_type": "code",
   "execution_count": null,
   "metadata": {
    "collapsed": true
   },
   "outputs": [],
   "source": []
  }
 ],
 "metadata": {
  "kernelspec": {
   "display_name": "Python 3",
   "language": "python",
   "name": "python3"
  },
  "language_info": {
   "codemirror_mode": {
    "name": "ipython",
    "version": 3
   },
   "file_extension": ".py",
   "mimetype": "text/x-python",
   "name": "python",
   "nbconvert_exporter": "python",
   "pygments_lexer": "ipython3",
   "version": "3.6.1"
  }
 },
 "nbformat": 4,
 "nbformat_minor": 2
}
