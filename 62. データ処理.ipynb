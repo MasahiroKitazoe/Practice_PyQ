{
 "cells": [
  {
   "cell_type": "markdown",
   "metadata": {},
   "source": [
    "# データ処理"
   ]
  },
  {
   "cell_type": "markdown",
   "metadata": {},
   "source": [
    "## 1. PandasでCSVファイルを読み込む"
   ]
  },
  {
   "cell_type": "code",
   "execution_count": 6,
   "metadata": {
    "collapsed": true
   },
   "outputs": [],
   "source": [
    "import pandas as pd"
   ]
  },
  {
   "cell_type": "code",
   "execution_count": 7,
   "metadata": {},
   "outputs": [
    {
     "data": {
      "text/html": [
       "<div>\n",
       "<style>\n",
       "    .dataframe thead tr:only-child th {\n",
       "        text-align: right;\n",
       "    }\n",
       "\n",
       "    .dataframe thead th {\n",
       "        text-align: left;\n",
       "    }\n",
       "\n",
       "    .dataframe tbody tr th {\n",
       "        vertical-align: top;\n",
       "    }\n",
       "</style>\n",
       "<table border=\"1\" class=\"dataframe\">\n",
       "  <thead>\n",
       "    <tr style=\"text-align: right;\">\n",
       "      <th></th>\n",
       "      <th>Name</th>\n",
       "      <th>Height</th>\n",
       "      <th>Weight</th>\n",
       "      <th>Unnamed: 3</th>\n",
       "    </tr>\n",
       "  </thead>\n",
       "  <tbody>\n",
       "    <tr>\n",
       "      <th>0</th>\n",
       "      <td>0</td>\n",
       "      <td>佐藤</td>\n",
       "      <td>172</td>\n",
       "      <td>53</td>\n",
       "    </tr>\n",
       "    <tr>\n",
       "      <th>1</th>\n",
       "      <td>1</td>\n",
       "      <td>田中</td>\n",
       "      <td>160</td>\n",
       "      <td>50</td>\n",
       "    </tr>\n",
       "    <tr>\n",
       "      <th>2</th>\n",
       "      <td>2</td>\n",
       "      <td>鈴木</td>\n",
       "      <td>165</td>\n",
       "      <td>58</td>\n",
       "    </tr>\n",
       "    <tr>\n",
       "      <th>3</th>\n",
       "      <td>3</td>\n",
       "      <td>中村</td>\n",
       "      <td>172</td>\n",
       "      <td>53</td>\n",
       "    </tr>\n",
       "    <tr>\n",
       "      <th>4</th>\n",
       "      <td>4</td>\n",
       "      <td>小池</td>\n",
       "      <td>160</td>\n",
       "      <td>50</td>\n",
       "    </tr>\n",
       "    <tr>\n",
       "      <th>5</th>\n",
       "      <td>5</td>\n",
       "      <td>中山</td>\n",
       "      <td>165</td>\n",
       "      <td>58</td>\n",
       "    </tr>\n",
       "    <tr>\n",
       "      <th>6</th>\n",
       "      <td>6</td>\n",
       "      <td>鎌田</td>\n",
       "      <td>172</td>\n",
       "      <td>53</td>\n",
       "    </tr>\n",
       "    <tr>\n",
       "      <th>7</th>\n",
       "      <td>6</td>\n",
       "      <td>高木</td>\n",
       "      <td>160</td>\n",
       "      <td>50</td>\n",
       "    </tr>\n",
       "    <tr>\n",
       "      <th>8</th>\n",
       "      <td>7</td>\n",
       "      <td>伊東</td>\n",
       "      <td>165</td>\n",
       "      <td>58</td>\n",
       "    </tr>\n",
       "  </tbody>\n",
       "</table>\n",
       "</div>"
      ],
      "text/plain": [
       "   Name Height  Weight  Unnamed: 3\n",
       "0     0     佐藤     172          53\n",
       "1     1     田中     160          50\n",
       "2     2     鈴木     165          58\n",
       "3     3     中村     172          53\n",
       "4     4     小池     160          50\n",
       "5     5     中山     165          58\n",
       "6     6     鎌田     172          53\n",
       "7     6     高木     160          50\n",
       "8     7     伊東     165          58"
      ]
     },
     "execution_count": 7,
     "metadata": {},
     "output_type": "execute_result"
    }
   ],
   "source": [
    "df = pd.read_csv('dataset/health_check.csv')\n",
    "df"
   ]
  },
  {
   "cell_type": "code",
   "execution_count": 8,
   "metadata": {
    "collapsed": true
   },
   "outputs": [],
   "source": [
    "#もしタブ区切り（TSV）だったら\n",
    "# df_tsv = pd.read_csv('dataset/health_check.tsv', sep='\\t')"
   ]
  },
  {
   "cell_type": "code",
   "execution_count": 9,
   "metadata": {
    "collapsed": true
   },
   "outputs": [],
   "source": [
    "#列名がないデータに対して、列名を指定して開く\n",
    "# df_head = pd.read_csv('dataset/health_check_nohead.csv', names=['Name', 'Height', 'Weight'])"
   ]
  },
  {
   "cell_type": "markdown",
   "metadata": {},
   "source": [
    "## 2. DataFrameをCSV形式で出力する"
   ]
  },
  {
   "cell_type": "code",
   "execution_count": 10,
   "metadata": {},
   "outputs": [
    {
     "data": {
      "text/html": [
       "<div>\n",
       "<style>\n",
       "    .dataframe thead tr:only-child th {\n",
       "        text-align: right;\n",
       "    }\n",
       "\n",
       "    .dataframe thead th {\n",
       "        text-align: left;\n",
       "    }\n",
       "\n",
       "    .dataframe tbody tr th {\n",
       "        vertical-align: top;\n",
       "    }\n",
       "</style>\n",
       "<table border=\"1\" class=\"dataframe\">\n",
       "  <thead>\n",
       "    <tr style=\"text-align: right;\">\n",
       "      <th></th>\n",
       "      <th>Name</th>\n",
       "      <th>Height</th>\n",
       "      <th>Weight</th>\n",
       "      <th>Unnamed: 3</th>\n",
       "    </tr>\n",
       "  </thead>\n",
       "  <tbody>\n",
       "    <tr>\n",
       "      <th>0</th>\n",
       "      <td>0</td>\n",
       "      <td>佐藤</td>\n",
       "      <td>172</td>\n",
       "      <td>53</td>\n",
       "    </tr>\n",
       "    <tr>\n",
       "      <th>1</th>\n",
       "      <td>1</td>\n",
       "      <td>田中</td>\n",
       "      <td>160</td>\n",
       "      <td>50</td>\n",
       "    </tr>\n",
       "    <tr>\n",
       "      <th>2</th>\n",
       "      <td>2</td>\n",
       "      <td>鈴木</td>\n",
       "      <td>165</td>\n",
       "      <td>58</td>\n",
       "    </tr>\n",
       "    <tr>\n",
       "      <th>3</th>\n",
       "      <td>3</td>\n",
       "      <td>中村</td>\n",
       "      <td>172</td>\n",
       "      <td>53</td>\n",
       "    </tr>\n",
       "    <tr>\n",
       "      <th>4</th>\n",
       "      <td>4</td>\n",
       "      <td>小池</td>\n",
       "      <td>160</td>\n",
       "      <td>50</td>\n",
       "    </tr>\n",
       "    <tr>\n",
       "      <th>5</th>\n",
       "      <td>5</td>\n",
       "      <td>中山</td>\n",
       "      <td>165</td>\n",
       "      <td>58</td>\n",
       "    </tr>\n",
       "    <tr>\n",
       "      <th>6</th>\n",
       "      <td>6</td>\n",
       "      <td>鎌田</td>\n",
       "      <td>172</td>\n",
       "      <td>53</td>\n",
       "    </tr>\n",
       "    <tr>\n",
       "      <th>7</th>\n",
       "      <td>6</td>\n",
       "      <td>高木</td>\n",
       "      <td>160</td>\n",
       "      <td>50</td>\n",
       "    </tr>\n",
       "    <tr>\n",
       "      <th>8</th>\n",
       "      <td>7</td>\n",
       "      <td>伊東</td>\n",
       "      <td>165</td>\n",
       "      <td>58</td>\n",
       "    </tr>\n",
       "  </tbody>\n",
       "</table>\n",
       "</div>"
      ],
      "text/plain": [
       "   Name Height  Weight  Unnamed: 3\n",
       "0     0     佐藤     172          53\n",
       "1     1     田中     160          50\n",
       "2     2     鈴木     165          58\n",
       "3     3     中村     172          53\n",
       "4     4     小池     160          50\n",
       "5     5     中山     165          58\n",
       "6     6     鎌田     172          53\n",
       "7     6     高木     160          50\n",
       "8     7     伊東     165          58"
      ]
     },
     "execution_count": 10,
     "metadata": {},
     "output_type": "execute_result"
    }
   ],
   "source": [
    "import pandas as pd\n",
    "\n",
    "df_csv = pd.read_csv('dataset/health_check.csv')\n",
    "df_csv"
   ]
  },
  {
   "cell_type": "code",
   "execution_count": 11,
   "metadata": {
    "collapsed": true
   },
   "outputs": [],
   "source": [
    "df_csv.to_csv('dataset/outputs/output_csv.csv', index=False)"
   ]
  },
  {
   "cell_type": "code",
   "execution_count": 12,
   "metadata": {},
   "outputs": [
    {
     "data": {
      "text/html": [
       "<div>\n",
       "<style>\n",
       "    .dataframe thead tr:only-child th {\n",
       "        text-align: right;\n",
       "    }\n",
       "\n",
       "    .dataframe thead th {\n",
       "        text-align: left;\n",
       "    }\n",
       "\n",
       "    .dataframe tbody tr th {\n",
       "        vertical-align: top;\n",
       "    }\n",
       "</style>\n",
       "<table border=\"1\" class=\"dataframe\">\n",
       "  <thead>\n",
       "    <tr style=\"text-align: right;\">\n",
       "      <th></th>\n",
       "      <th>Name</th>\n",
       "      <th>Height</th>\n",
       "      <th>Weight</th>\n",
       "      <th>Unnamed: 3</th>\n",
       "    </tr>\n",
       "  </thead>\n",
       "  <tbody>\n",
       "    <tr>\n",
       "      <th>0</th>\n",
       "      <td>0</td>\n",
       "      <td>佐藤</td>\n",
       "      <td>172</td>\n",
       "      <td>53</td>\n",
       "    </tr>\n",
       "    <tr>\n",
       "      <th>1</th>\n",
       "      <td>1</td>\n",
       "      <td>田中</td>\n",
       "      <td>160</td>\n",
       "      <td>50</td>\n",
       "    </tr>\n",
       "    <tr>\n",
       "      <th>2</th>\n",
       "      <td>2</td>\n",
       "      <td>鈴木</td>\n",
       "      <td>165</td>\n",
       "      <td>58</td>\n",
       "    </tr>\n",
       "    <tr>\n",
       "      <th>3</th>\n",
       "      <td>3</td>\n",
       "      <td>中村</td>\n",
       "      <td>172</td>\n",
       "      <td>53</td>\n",
       "    </tr>\n",
       "    <tr>\n",
       "      <th>4</th>\n",
       "      <td>4</td>\n",
       "      <td>小池</td>\n",
       "      <td>160</td>\n",
       "      <td>50</td>\n",
       "    </tr>\n",
       "    <tr>\n",
       "      <th>5</th>\n",
       "      <td>5</td>\n",
       "      <td>中山</td>\n",
       "      <td>165</td>\n",
       "      <td>58</td>\n",
       "    </tr>\n",
       "    <tr>\n",
       "      <th>6</th>\n",
       "      <td>6</td>\n",
       "      <td>鎌田</td>\n",
       "      <td>172</td>\n",
       "      <td>53</td>\n",
       "    </tr>\n",
       "    <tr>\n",
       "      <th>7</th>\n",
       "      <td>6</td>\n",
       "      <td>高木</td>\n",
       "      <td>160</td>\n",
       "      <td>50</td>\n",
       "    </tr>\n",
       "    <tr>\n",
       "      <th>8</th>\n",
       "      <td>7</td>\n",
       "      <td>伊東</td>\n",
       "      <td>165</td>\n",
       "      <td>58</td>\n",
       "    </tr>\n",
       "  </tbody>\n",
       "</table>\n",
       "</div>"
      ],
      "text/plain": [
       "   Name Height  Weight  Unnamed: 3\n",
       "0     0     佐藤     172          53\n",
       "1     1     田中     160          50\n",
       "2     2     鈴木     165          58\n",
       "3     3     中村     172          53\n",
       "4     4     小池     160          50\n",
       "5     5     中山     165          58\n",
       "6     6     鎌田     172          53\n",
       "7     6     高木     160          50\n",
       "8     7     伊東     165          58"
      ]
     },
     "execution_count": 12,
     "metadata": {},
     "output_type": "execute_result"
    }
   ],
   "source": [
    "df_out = pd.read_csv('dataset/outputs/output_csv.csv')\n",
    "df_out"
   ]
  },
  {
   "cell_type": "code",
   "execution_count": null,
   "metadata": {
    "collapsed": true
   },
   "outputs": [],
   "source": []
  },
  {
   "cell_type": "code",
   "execution_count": null,
   "metadata": {
    "collapsed": true
   },
   "outputs": [],
   "source": []
  },
  {
   "cell_type": "markdown",
   "metadata": {},
   "source": [
    "## 3. DataFrameをJSON形式で出力する"
   ]
  },
  {
   "cell_type": "code",
   "execution_count": 13,
   "metadata": {},
   "outputs": [
    {
     "data": {
      "text/html": [
       "<div>\n",
       "<style>\n",
       "    .dataframe thead tr:only-child th {\n",
       "        text-align: right;\n",
       "    }\n",
       "\n",
       "    .dataframe thead th {\n",
       "        text-align: left;\n",
       "    }\n",
       "\n",
       "    .dataframe tbody tr th {\n",
       "        vertical-align: top;\n",
       "    }\n",
       "</style>\n",
       "<table border=\"1\" class=\"dataframe\">\n",
       "  <thead>\n",
       "    <tr style=\"text-align: right;\">\n",
       "      <th></th>\n",
       "      <th>Name</th>\n",
       "      <th>Height</th>\n",
       "      <th>Weight</th>\n",
       "      <th>Unnamed: 3</th>\n",
       "    </tr>\n",
       "  </thead>\n",
       "  <tbody>\n",
       "    <tr>\n",
       "      <th>0</th>\n",
       "      <td>0</td>\n",
       "      <td>佐藤</td>\n",
       "      <td>172</td>\n",
       "      <td>53</td>\n",
       "    </tr>\n",
       "    <tr>\n",
       "      <th>1</th>\n",
       "      <td>1</td>\n",
       "      <td>田中</td>\n",
       "      <td>160</td>\n",
       "      <td>50</td>\n",
       "    </tr>\n",
       "    <tr>\n",
       "      <th>2</th>\n",
       "      <td>2</td>\n",
       "      <td>鈴木</td>\n",
       "      <td>165</td>\n",
       "      <td>58</td>\n",
       "    </tr>\n",
       "    <tr>\n",
       "      <th>3</th>\n",
       "      <td>3</td>\n",
       "      <td>中村</td>\n",
       "      <td>172</td>\n",
       "      <td>53</td>\n",
       "    </tr>\n",
       "    <tr>\n",
       "      <th>4</th>\n",
       "      <td>4</td>\n",
       "      <td>小池</td>\n",
       "      <td>160</td>\n",
       "      <td>50</td>\n",
       "    </tr>\n",
       "    <tr>\n",
       "      <th>5</th>\n",
       "      <td>5</td>\n",
       "      <td>中山</td>\n",
       "      <td>165</td>\n",
       "      <td>58</td>\n",
       "    </tr>\n",
       "    <tr>\n",
       "      <th>6</th>\n",
       "      <td>6</td>\n",
       "      <td>鎌田</td>\n",
       "      <td>172</td>\n",
       "      <td>53</td>\n",
       "    </tr>\n",
       "    <tr>\n",
       "      <th>7</th>\n",
       "      <td>6</td>\n",
       "      <td>高木</td>\n",
       "      <td>160</td>\n",
       "      <td>50</td>\n",
       "    </tr>\n",
       "    <tr>\n",
       "      <th>8</th>\n",
       "      <td>7</td>\n",
       "      <td>伊東</td>\n",
       "      <td>165</td>\n",
       "      <td>58</td>\n",
       "    </tr>\n",
       "  </tbody>\n",
       "</table>\n",
       "</div>"
      ],
      "text/plain": [
       "   Name Height  Weight  Unnamed: 3\n",
       "0     0     佐藤     172          53\n",
       "1     1     田中     160          50\n",
       "2     2     鈴木     165          58\n",
       "3     3     中村     172          53\n",
       "4     4     小池     160          50\n",
       "5     5     中山     165          58\n",
       "6     6     鎌田     172          53\n",
       "7     6     高木     160          50\n",
       "8     7     伊東     165          58"
      ]
     },
     "execution_count": 13,
     "metadata": {},
     "output_type": "execute_result"
    }
   ],
   "source": [
    "import pandas as pd\n",
    "\n",
    "df_csv = pd.read_csv('dataset/health_check.csv')\n",
    "df_csv"
   ]
  },
  {
   "cell_type": "code",
   "execution_count": 14,
   "metadata": {},
   "outputs": [
    {
     "data": {
      "text/plain": [
       "'{\"Name\":{\"0\":0,\"1\":1,\"2\":2,\"3\":3,\"4\":4,\"5\":5,\"6\":6,\"7\":6,\"8\":7},\"Height\":{\"0\":\"\\\\u4f50\\\\u85e4\",\"1\":\"\\\\u7530\\\\u4e2d\",\"2\":\"\\\\u9234\\\\u6728\",\"3\":\"\\\\u4e2d\\\\u6751\",\"4\":\"\\\\u5c0f\\\\u6c60\",\"5\":\"\\\\u4e2d\\\\u5c71\",\"6\":\"\\\\u938c\\\\u7530\",\"7\":\"\\\\u9ad8\\\\u6728\",\"8\":\"\\\\u4f0a\\\\u6771\"},\"Weight\":{\"0\":172,\"1\":160,\"2\":165,\"3\":172,\"4\":160,\"5\":165,\"6\":172,\"7\":160,\"8\":165},\"Unnamed: 3\":{\"0\":53,\"1\":50,\"2\":58,\"3\":53,\"4\":50,\"5\":58,\"6\":53,\"7\":50,\"8\":58}}'"
      ]
     },
     "execution_count": 14,
     "metadata": {},
     "output_type": "execute_result"
    }
   ],
   "source": [
    "df_json = df_csv.to_json()\n",
    "df_json"
   ]
  },
  {
   "cell_type": "code",
   "execution_count": 16,
   "metadata": {},
   "outputs": [
    {
     "data": {
      "text/plain": [
       "'[{\"Name\":0,\"Height\":\"\\\\u4f50\\\\u85e4\",\"Weight\":172,\"Unnamed: 3\":53},{\"Name\":1,\"Height\":\"\\\\u7530\\\\u4e2d\",\"Weight\":160,\"Unnamed: 3\":50},{\"Name\":2,\"Height\":\"\\\\u9234\\\\u6728\",\"Weight\":165,\"Unnamed: 3\":58},{\"Name\":3,\"Height\":\"\\\\u4e2d\\\\u6751\",\"Weight\":172,\"Unnamed: 3\":53},{\"Name\":4,\"Height\":\"\\\\u5c0f\\\\u6c60\",\"Weight\":160,\"Unnamed: 3\":50},{\"Name\":5,\"Height\":\"\\\\u4e2d\\\\u5c71\",\"Weight\":165,\"Unnamed: 3\":58},{\"Name\":6,\"Height\":\"\\\\u938c\\\\u7530\",\"Weight\":172,\"Unnamed: 3\":53},{\"Name\":6,\"Height\":\"\\\\u9ad8\\\\u6728\",\"Weight\":160,\"Unnamed: 3\":50},{\"Name\":7,\"Height\":\"\\\\u4f0a\\\\u6771\",\"Weight\":165,\"Unnamed: 3\":58}]'"
      ]
     },
     "execution_count": 16,
     "metadata": {},
     "output_type": "execute_result"
    }
   ],
   "source": [
    "# orient='records'とすることで辞書のkeyも表示させることができる\n",
    "df_json_dict = df_csv.to_json(orient='records')\n",
    "df_json_dict"
   ]
  },
  {
   "cell_type": "code",
   "execution_count": null,
   "metadata": {
    "collapsed": true
   },
   "outputs": [],
   "source": []
  },
  {
   "cell_type": "code",
   "execution_count": null,
   "metadata": {
    "collapsed": true
   },
   "outputs": [],
   "source": []
  },
  {
   "cell_type": "code",
   "execution_count": null,
   "metadata": {
    "collapsed": true
   },
   "outputs": [],
   "source": []
  },
  {
   "cell_type": "markdown",
   "metadata": {},
   "source": [
    "## 4. DataFrameの列追加と演算について学ぼう"
   ]
  },
  {
   "cell_type": "code",
   "execution_count": 17,
   "metadata": {},
   "outputs": [
    {
     "data": {
      "text/html": [
       "<div>\n",
       "<style>\n",
       "    .dataframe thead tr:only-child th {\n",
       "        text-align: right;\n",
       "    }\n",
       "\n",
       "    .dataframe thead th {\n",
       "        text-align: left;\n",
       "    }\n",
       "\n",
       "    .dataframe tbody tr th {\n",
       "        vertical-align: top;\n",
       "    }\n",
       "</style>\n",
       "<table border=\"1\" class=\"dataframe\">\n",
       "  <thead>\n",
       "    <tr style=\"text-align: right;\">\n",
       "      <th></th>\n",
       "      <th>Name</th>\n",
       "      <th>Price</th>\n",
       "      <th>Weight</th>\n",
       "      <th>ShippingCost</th>\n",
       "    </tr>\n",
       "  </thead>\n",
       "  <tbody>\n",
       "    <tr>\n",
       "      <th>0</th>\n",
       "      <td>小麦粉A</td>\n",
       "      <td>100</td>\n",
       "      <td>200</td>\n",
       "      <td>1000</td>\n",
       "    </tr>\n",
       "    <tr>\n",
       "      <th>1</th>\n",
       "      <td>小麦粉A</td>\n",
       "      <td>150</td>\n",
       "      <td>500</td>\n",
       "      <td>1000</td>\n",
       "    </tr>\n",
       "    <tr>\n",
       "      <th>2</th>\n",
       "      <td>小麦粉A</td>\n",
       "      <td>290</td>\n",
       "      <td>1000</td>\n",
       "      <td>1000</td>\n",
       "    </tr>\n",
       "    <tr>\n",
       "      <th>3</th>\n",
       "      <td>小麦粉B</td>\n",
       "      <td>130</td>\n",
       "      <td>300</td>\n",
       "      <td>500</td>\n",
       "    </tr>\n",
       "    <tr>\n",
       "      <th>4</th>\n",
       "      <td>小麦粉C</td>\n",
       "      <td>260</td>\n",
       "      <td>900</td>\n",
       "      <td>1200</td>\n",
       "    </tr>\n",
       "  </tbody>\n",
       "</table>\n",
       "</div>"
      ],
      "text/plain": [
       "   Name  Price  Weight  ShippingCost\n",
       "0  小麦粉A    100     200          1000\n",
       "1  小麦粉A    150     500          1000\n",
       "2  小麦粉A    290    1000          1000\n",
       "3  小麦粉B    130     300           500\n",
       "4  小麦粉C    260     900          1200"
      ]
     },
     "execution_count": 17,
     "metadata": {},
     "output_type": "execute_result"
    }
   ],
   "source": [
    "import pandas as pd\n",
    "\n",
    "df = pd.read_csv('dataset/items.csv')\n",
    "df"
   ]
  },
  {
   "cell_type": "code",
   "execution_count": 18,
   "metadata": {},
   "outputs": [
    {
     "data": {
      "text/html": [
       "<div>\n",
       "<style>\n",
       "    .dataframe thead tr:only-child th {\n",
       "        text-align: right;\n",
       "    }\n",
       "\n",
       "    .dataframe thead th {\n",
       "        text-align: left;\n",
       "    }\n",
       "\n",
       "    .dataframe tbody tr th {\n",
       "        vertical-align: top;\n",
       "    }\n",
       "</style>\n",
       "<table border=\"1\" class=\"dataframe\">\n",
       "  <thead>\n",
       "    <tr style=\"text-align: right;\">\n",
       "      <th></th>\n",
       "      <th>Name</th>\n",
       "      <th>Price</th>\n",
       "      <th>Weight</th>\n",
       "      <th>ShippingCost</th>\n",
       "      <th>Maker</th>\n",
       "    </tr>\n",
       "  </thead>\n",
       "  <tbody>\n",
       "    <tr>\n",
       "      <th>0</th>\n",
       "      <td>小麦粉A</td>\n",
       "      <td>100</td>\n",
       "      <td>200</td>\n",
       "      <td>1000</td>\n",
       "      <td>メーカーA</td>\n",
       "    </tr>\n",
       "    <tr>\n",
       "      <th>1</th>\n",
       "      <td>小麦粉A</td>\n",
       "      <td>150</td>\n",
       "      <td>500</td>\n",
       "      <td>1000</td>\n",
       "      <td>メーカーA</td>\n",
       "    </tr>\n",
       "    <tr>\n",
       "      <th>2</th>\n",
       "      <td>小麦粉A</td>\n",
       "      <td>290</td>\n",
       "      <td>1000</td>\n",
       "      <td>1000</td>\n",
       "      <td>メーカーA</td>\n",
       "    </tr>\n",
       "    <tr>\n",
       "      <th>3</th>\n",
       "      <td>小麦粉B</td>\n",
       "      <td>130</td>\n",
       "      <td>300</td>\n",
       "      <td>500</td>\n",
       "      <td>メーカーB</td>\n",
       "    </tr>\n",
       "    <tr>\n",
       "      <th>4</th>\n",
       "      <td>小麦粉C</td>\n",
       "      <td>260</td>\n",
       "      <td>900</td>\n",
       "      <td>1200</td>\n",
       "      <td>メーカーC</td>\n",
       "    </tr>\n",
       "  </tbody>\n",
       "</table>\n",
       "</div>"
      ],
      "text/plain": [
       "   Name  Price  Weight  ShippingCost  Maker\n",
       "0  小麦粉A    100     200          1000  メーカーA\n",
       "1  小麦粉A    150     500          1000  メーカーA\n",
       "2  小麦粉A    290    1000          1000  メーカーA\n",
       "3  小麦粉B    130     300           500  メーカーB\n",
       "4  小麦粉C    260     900          1200  メーカーC"
      ]
     },
     "execution_count": 18,
     "metadata": {},
     "output_type": "execute_result"
    }
   ],
   "source": [
    "#列データを追加\n",
    "df['Maker'] = ['メーカーA', 'メーカーA', 'メーカーA', 'メーカーB', 'メーカーC']\n",
    "df"
   ]
  },
  {
   "cell_type": "code",
   "execution_count": 19,
   "metadata": {
    "collapsed": true
   },
   "outputs": [],
   "source": [
    "#df['列ラベル'] = 新しいデータのリストで既存の列の値を変えることが可能\n",
    "df['Name'] = ['小麦粉A 200g', '小麦粉A 500g', '小麦粉A 1000g','小麦粉B 300g', '小麦粉C 900g']"
   ]
  },
  {
   "cell_type": "code",
   "execution_count": 20,
   "metadata": {},
   "outputs": [
    {
     "data": {
      "text/html": [
       "<div>\n",
       "<style>\n",
       "    .dataframe thead tr:only-child th {\n",
       "        text-align: right;\n",
       "    }\n",
       "\n",
       "    .dataframe thead th {\n",
       "        text-align: left;\n",
       "    }\n",
       "\n",
       "    .dataframe tbody tr th {\n",
       "        vertical-align: top;\n",
       "    }\n",
       "</style>\n",
       "<table border=\"1\" class=\"dataframe\">\n",
       "  <thead>\n",
       "    <tr style=\"text-align: right;\">\n",
       "      <th></th>\n",
       "      <th>Name</th>\n",
       "      <th>Price</th>\n",
       "      <th>Weight</th>\n",
       "      <th>ShippingCost</th>\n",
       "      <th>Maker</th>\n",
       "    </tr>\n",
       "  </thead>\n",
       "  <tbody>\n",
       "    <tr>\n",
       "      <th>0</th>\n",
       "      <td>小麦粉A 200g</td>\n",
       "      <td>100</td>\n",
       "      <td>200</td>\n",
       "      <td>1000</td>\n",
       "      <td>メーカーA</td>\n",
       "    </tr>\n",
       "    <tr>\n",
       "      <th>1</th>\n",
       "      <td>小麦粉A 500g</td>\n",
       "      <td>150</td>\n",
       "      <td>500</td>\n",
       "      <td>1000</td>\n",
       "      <td>メーカーA</td>\n",
       "    </tr>\n",
       "    <tr>\n",
       "      <th>2</th>\n",
       "      <td>小麦粉A 1000g</td>\n",
       "      <td>290</td>\n",
       "      <td>1000</td>\n",
       "      <td>1000</td>\n",
       "      <td>メーカーA</td>\n",
       "    </tr>\n",
       "    <tr>\n",
       "      <th>3</th>\n",
       "      <td>小麦粉B 300g</td>\n",
       "      <td>130</td>\n",
       "      <td>300</td>\n",
       "      <td>500</td>\n",
       "      <td>メーカーB</td>\n",
       "    </tr>\n",
       "    <tr>\n",
       "      <th>4</th>\n",
       "      <td>小麦粉C 900g</td>\n",
       "      <td>260</td>\n",
       "      <td>900</td>\n",
       "      <td>1200</td>\n",
       "      <td>メーカーC</td>\n",
       "    </tr>\n",
       "  </tbody>\n",
       "</table>\n",
       "</div>"
      ],
      "text/plain": [
       "         Name  Price  Weight  ShippingCost  Maker\n",
       "0   小麦粉A 200g    100     200          1000  メーカーA\n",
       "1   小麦粉A 500g    150     500          1000  メーカーA\n",
       "2  小麦粉A 1000g    290    1000          1000  メーカーA\n",
       "3   小麦粉B 300g    130     300           500  メーカーB\n",
       "4   小麦粉C 900g    260     900          1200  メーカーC"
      ]
     },
     "execution_count": 20,
     "metadata": {},
     "output_type": "execute_result"
    }
   ],
   "source": [
    "df"
   ]
  },
  {
   "cell_type": "code",
   "execution_count": 21,
   "metadata": {
    "collapsed": true
   },
   "outputs": [],
   "source": [
    "# 列データと定数の計算\n",
    "df['WeightKg'] = df['Weight'] / 1000"
   ]
  },
  {
   "cell_type": "code",
   "execution_count": 22,
   "metadata": {},
   "outputs": [
    {
     "data": {
      "text/html": [
       "<div>\n",
       "<style>\n",
       "    .dataframe thead tr:only-child th {\n",
       "        text-align: right;\n",
       "    }\n",
       "\n",
       "    .dataframe thead th {\n",
       "        text-align: left;\n",
       "    }\n",
       "\n",
       "    .dataframe tbody tr th {\n",
       "        vertical-align: top;\n",
       "    }\n",
       "</style>\n",
       "<table border=\"1\" class=\"dataframe\">\n",
       "  <thead>\n",
       "    <tr style=\"text-align: right;\">\n",
       "      <th></th>\n",
       "      <th>Name</th>\n",
       "      <th>Price</th>\n",
       "      <th>Weight</th>\n",
       "      <th>ShippingCost</th>\n",
       "      <th>Maker</th>\n",
       "      <th>WeightKg</th>\n",
       "    </tr>\n",
       "  </thead>\n",
       "  <tbody>\n",
       "    <tr>\n",
       "      <th>0</th>\n",
       "      <td>小麦粉A 200g</td>\n",
       "      <td>100</td>\n",
       "      <td>200</td>\n",
       "      <td>1000</td>\n",
       "      <td>メーカーA</td>\n",
       "      <td>0.2</td>\n",
       "    </tr>\n",
       "    <tr>\n",
       "      <th>1</th>\n",
       "      <td>小麦粉A 500g</td>\n",
       "      <td>150</td>\n",
       "      <td>500</td>\n",
       "      <td>1000</td>\n",
       "      <td>メーカーA</td>\n",
       "      <td>0.5</td>\n",
       "    </tr>\n",
       "    <tr>\n",
       "      <th>2</th>\n",
       "      <td>小麦粉A 1000g</td>\n",
       "      <td>290</td>\n",
       "      <td>1000</td>\n",
       "      <td>1000</td>\n",
       "      <td>メーカーA</td>\n",
       "      <td>1.0</td>\n",
       "    </tr>\n",
       "    <tr>\n",
       "      <th>3</th>\n",
       "      <td>小麦粉B 300g</td>\n",
       "      <td>130</td>\n",
       "      <td>300</td>\n",
       "      <td>500</td>\n",
       "      <td>メーカーB</td>\n",
       "      <td>0.3</td>\n",
       "    </tr>\n",
       "    <tr>\n",
       "      <th>4</th>\n",
       "      <td>小麦粉C 900g</td>\n",
       "      <td>260</td>\n",
       "      <td>900</td>\n",
       "      <td>1200</td>\n",
       "      <td>メーカーC</td>\n",
       "      <td>0.9</td>\n",
       "    </tr>\n",
       "  </tbody>\n",
       "</table>\n",
       "</div>"
      ],
      "text/plain": [
       "         Name  Price  Weight  ShippingCost  Maker  WeightKg\n",
       "0   小麦粉A 200g    100     200          1000  メーカーA       0.2\n",
       "1   小麦粉A 500g    150     500          1000  メーカーA       0.5\n",
       "2  小麦粉A 1000g    290    1000          1000  メーカーA       1.0\n",
       "3   小麦粉B 300g    130     300           500  メーカーB       0.3\n",
       "4   小麦粉C 900g    260     900          1200  メーカーC       0.9"
      ]
     },
     "execution_count": 22,
     "metadata": {},
     "output_type": "execute_result"
    }
   ],
   "source": [
    "df"
   ]
  },
  {
   "cell_type": "code",
   "execution_count": 23,
   "metadata": {
    "collapsed": true
   },
   "outputs": [],
   "source": [
    "# 列データ同士の計算\n",
    "## １キログラム当たりの値段を算出し、新しいカラムに代入する\n",
    "df['PricePerKg'] = df['Price'] / df['WeightKg']"
   ]
  },
  {
   "cell_type": "code",
   "execution_count": 24,
   "metadata": {},
   "outputs": [
    {
     "data": {
      "text/html": [
       "<div>\n",
       "<style>\n",
       "    .dataframe thead tr:only-child th {\n",
       "        text-align: right;\n",
       "    }\n",
       "\n",
       "    .dataframe thead th {\n",
       "        text-align: left;\n",
       "    }\n",
       "\n",
       "    .dataframe tbody tr th {\n",
       "        vertical-align: top;\n",
       "    }\n",
       "</style>\n",
       "<table border=\"1\" class=\"dataframe\">\n",
       "  <thead>\n",
       "    <tr style=\"text-align: right;\">\n",
       "      <th></th>\n",
       "      <th>Name</th>\n",
       "      <th>Price</th>\n",
       "      <th>Weight</th>\n",
       "      <th>ShippingCost</th>\n",
       "      <th>Maker</th>\n",
       "      <th>WeightKg</th>\n",
       "      <th>PricePerKg</th>\n",
       "    </tr>\n",
       "  </thead>\n",
       "  <tbody>\n",
       "    <tr>\n",
       "      <th>0</th>\n",
       "      <td>小麦粉A 200g</td>\n",
       "      <td>100</td>\n",
       "      <td>200</td>\n",
       "      <td>1000</td>\n",
       "      <td>メーカーA</td>\n",
       "      <td>0.2</td>\n",
       "      <td>500.000000</td>\n",
       "    </tr>\n",
       "    <tr>\n",
       "      <th>1</th>\n",
       "      <td>小麦粉A 500g</td>\n",
       "      <td>150</td>\n",
       "      <td>500</td>\n",
       "      <td>1000</td>\n",
       "      <td>メーカーA</td>\n",
       "      <td>0.5</td>\n",
       "      <td>300.000000</td>\n",
       "    </tr>\n",
       "    <tr>\n",
       "      <th>2</th>\n",
       "      <td>小麦粉A 1000g</td>\n",
       "      <td>290</td>\n",
       "      <td>1000</td>\n",
       "      <td>1000</td>\n",
       "      <td>メーカーA</td>\n",
       "      <td>1.0</td>\n",
       "      <td>290.000000</td>\n",
       "    </tr>\n",
       "    <tr>\n",
       "      <th>3</th>\n",
       "      <td>小麦粉B 300g</td>\n",
       "      <td>130</td>\n",
       "      <td>300</td>\n",
       "      <td>500</td>\n",
       "      <td>メーカーB</td>\n",
       "      <td>0.3</td>\n",
       "      <td>433.333333</td>\n",
       "    </tr>\n",
       "    <tr>\n",
       "      <th>4</th>\n",
       "      <td>小麦粉C 900g</td>\n",
       "      <td>260</td>\n",
       "      <td>900</td>\n",
       "      <td>1200</td>\n",
       "      <td>メーカーC</td>\n",
       "      <td>0.9</td>\n",
       "      <td>288.888889</td>\n",
       "    </tr>\n",
       "  </tbody>\n",
       "</table>\n",
       "</div>"
      ],
      "text/plain": [
       "         Name  Price  Weight  ShippingCost  Maker  WeightKg  PricePerKg\n",
       "0   小麦粉A 200g    100     200          1000  メーカーA       0.2  500.000000\n",
       "1   小麦粉A 500g    150     500          1000  メーカーA       0.5  300.000000\n",
       "2  小麦粉A 1000g    290    1000          1000  メーカーA       1.0  290.000000\n",
       "3   小麦粉B 300g    130     300           500  メーカーB       0.3  433.333333\n",
       "4   小麦粉C 900g    260     900          1200  メーカーC       0.9  288.888889"
      ]
     },
     "execution_count": 24,
     "metadata": {},
     "output_type": "execute_result"
    }
   ],
   "source": [
    "df"
   ]
  },
  {
   "cell_type": "code",
   "execution_count": 25,
   "metadata": {
    "collapsed": true
   },
   "outputs": [],
   "source": [
    "# Rankを表示する\n",
    "df['PriceRank'] = df['PricePerKg'].rank()"
   ]
  },
  {
   "cell_type": "code",
   "execution_count": 26,
   "metadata": {},
   "outputs": [
    {
     "data": {
      "text/html": [
       "<div>\n",
       "<style>\n",
       "    .dataframe thead tr:only-child th {\n",
       "        text-align: right;\n",
       "    }\n",
       "\n",
       "    .dataframe thead th {\n",
       "        text-align: left;\n",
       "    }\n",
       "\n",
       "    .dataframe tbody tr th {\n",
       "        vertical-align: top;\n",
       "    }\n",
       "</style>\n",
       "<table border=\"1\" class=\"dataframe\">\n",
       "  <thead>\n",
       "    <tr style=\"text-align: right;\">\n",
       "      <th></th>\n",
       "      <th>Name</th>\n",
       "      <th>Price</th>\n",
       "      <th>Weight</th>\n",
       "      <th>ShippingCost</th>\n",
       "      <th>Maker</th>\n",
       "      <th>WeightKg</th>\n",
       "      <th>PricePerKg</th>\n",
       "      <th>PriceRank</th>\n",
       "    </tr>\n",
       "  </thead>\n",
       "  <tbody>\n",
       "    <tr>\n",
       "      <th>0</th>\n",
       "      <td>小麦粉A 200g</td>\n",
       "      <td>100</td>\n",
       "      <td>200</td>\n",
       "      <td>1000</td>\n",
       "      <td>メーカーA</td>\n",
       "      <td>0.2</td>\n",
       "      <td>500.000000</td>\n",
       "      <td>5.0</td>\n",
       "    </tr>\n",
       "    <tr>\n",
       "      <th>1</th>\n",
       "      <td>小麦粉A 500g</td>\n",
       "      <td>150</td>\n",
       "      <td>500</td>\n",
       "      <td>1000</td>\n",
       "      <td>メーカーA</td>\n",
       "      <td>0.5</td>\n",
       "      <td>300.000000</td>\n",
       "      <td>3.0</td>\n",
       "    </tr>\n",
       "    <tr>\n",
       "      <th>2</th>\n",
       "      <td>小麦粉A 1000g</td>\n",
       "      <td>290</td>\n",
       "      <td>1000</td>\n",
       "      <td>1000</td>\n",
       "      <td>メーカーA</td>\n",
       "      <td>1.0</td>\n",
       "      <td>290.000000</td>\n",
       "      <td>2.0</td>\n",
       "    </tr>\n",
       "    <tr>\n",
       "      <th>3</th>\n",
       "      <td>小麦粉B 300g</td>\n",
       "      <td>130</td>\n",
       "      <td>300</td>\n",
       "      <td>500</td>\n",
       "      <td>メーカーB</td>\n",
       "      <td>0.3</td>\n",
       "      <td>433.333333</td>\n",
       "      <td>4.0</td>\n",
       "    </tr>\n",
       "    <tr>\n",
       "      <th>4</th>\n",
       "      <td>小麦粉C 900g</td>\n",
       "      <td>260</td>\n",
       "      <td>900</td>\n",
       "      <td>1200</td>\n",
       "      <td>メーカーC</td>\n",
       "      <td>0.9</td>\n",
       "      <td>288.888889</td>\n",
       "      <td>1.0</td>\n",
       "    </tr>\n",
       "  </tbody>\n",
       "</table>\n",
       "</div>"
      ],
      "text/plain": [
       "         Name  Price  Weight  ShippingCost  Maker  WeightKg  PricePerKg  \\\n",
       "0   小麦粉A 200g    100     200          1000  メーカーA       0.2  500.000000   \n",
       "1   小麦粉A 500g    150     500          1000  メーカーA       0.5  300.000000   \n",
       "2  小麦粉A 1000g    290    1000          1000  メーカーA       1.0  290.000000   \n",
       "3   小麦粉B 300g    130     300           500  メーカーB       0.3  433.333333   \n",
       "4   小麦粉C 900g    260     900          1200  メーカーC       0.9  288.888889   \n",
       "\n",
       "   PriceRank  \n",
       "0        5.0  \n",
       "1        3.0  \n",
       "2        2.0  \n",
       "3        4.0  \n",
       "4        1.0  "
      ]
     },
     "execution_count": 26,
     "metadata": {},
     "output_type": "execute_result"
    }
   ],
   "source": [
    "df"
   ]
  },
  {
   "cell_type": "code",
   "execution_count": null,
   "metadata": {
    "collapsed": true
   },
   "outputs": [],
   "source": []
  },
  {
   "cell_type": "code",
   "execution_count": null,
   "metadata": {
    "collapsed": true
   },
   "outputs": [],
   "source": []
  },
  {
   "cell_type": "markdown",
   "metadata": {},
   "source": [
    "## 6. DataFrameのデータを絞り込む、フィルタリングについて学ぼう"
   ]
  },
  {
   "cell_type": "code",
   "execution_count": 30,
   "metadata": {},
   "outputs": [
    {
     "data": {
      "text/html": [
       "<div>\n",
       "<style>\n",
       "    .dataframe thead tr:only-child th {\n",
       "        text-align: right;\n",
       "    }\n",
       "\n",
       "    .dataframe thead th {\n",
       "        text-align: left;\n",
       "    }\n",
       "\n",
       "    .dataframe tbody tr th {\n",
       "        vertical-align: top;\n",
       "    }\n",
       "</style>\n",
       "<table border=\"1\" class=\"dataframe\">\n",
       "  <thead>\n",
       "    <tr style=\"text-align: right;\">\n",
       "      <th></th>\n",
       "      <th>Name</th>\n",
       "      <th>Height</th>\n",
       "      <th>Weight</th>\n",
       "    </tr>\n",
       "  </thead>\n",
       "  <tbody>\n",
       "    <tr>\n",
       "      <th>0</th>\n",
       "      <td>佐藤</td>\n",
       "      <td>172</td>\n",
       "      <td>53</td>\n",
       "    </tr>\n",
       "    <tr>\n",
       "      <th>1</th>\n",
       "      <td>田中</td>\n",
       "      <td>160</td>\n",
       "      <td>50</td>\n",
       "    </tr>\n",
       "    <tr>\n",
       "      <th>2</th>\n",
       "      <td>鈴木</td>\n",
       "      <td>165</td>\n",
       "      <td>58</td>\n",
       "    </tr>\n",
       "    <tr>\n",
       "      <th>3</th>\n",
       "      <td>中村</td>\n",
       "      <td>172</td>\n",
       "      <td>53</td>\n",
       "    </tr>\n",
       "    <tr>\n",
       "      <th>4</th>\n",
       "      <td>小池</td>\n",
       "      <td>160</td>\n",
       "      <td>50</td>\n",
       "    </tr>\n",
       "    <tr>\n",
       "      <th>5</th>\n",
       "      <td>中山</td>\n",
       "      <td>165</td>\n",
       "      <td>58</td>\n",
       "    </tr>\n",
       "    <tr>\n",
       "      <th>6</th>\n",
       "      <td>鎌田</td>\n",
       "      <td>172</td>\n",
       "      <td>53</td>\n",
       "    </tr>\n",
       "    <tr>\n",
       "      <th>7</th>\n",
       "      <td>高木</td>\n",
       "      <td>160</td>\n",
       "      <td>50</td>\n",
       "    </tr>\n",
       "    <tr>\n",
       "      <th>8</th>\n",
       "      <td>伊東</td>\n",
       "      <td>165</td>\n",
       "      <td>58</td>\n",
       "    </tr>\n",
       "  </tbody>\n",
       "</table>\n",
       "</div>"
      ],
      "text/plain": [
       "  Name  Height  Weight\n",
       "0   佐藤     172      53\n",
       "1   田中     160      50\n",
       "2   鈴木     165      58\n",
       "3   中村     172      53\n",
       "4   小池     160      50\n",
       "5   中山     165      58\n",
       "6   鎌田     172      53\n",
       "7   高木     160      50\n",
       "8   伊東     165      58"
      ]
     },
     "execution_count": 30,
     "metadata": {},
     "output_type": "execute_result"
    }
   ],
   "source": [
    "import pandas as pd\n",
    "\n",
    "df = pd.read_csv('dataset/health_check.csv')\n",
    "df"
   ]
  },
  {
   "cell_type": "code",
   "execution_count": 32,
   "metadata": {},
   "outputs": [
    {
     "data": {
      "text/html": [
       "<div>\n",
       "<style>\n",
       "    .dataframe thead tr:only-child th {\n",
       "        text-align: right;\n",
       "    }\n",
       "\n",
       "    .dataframe thead th {\n",
       "        text-align: left;\n",
       "    }\n",
       "\n",
       "    .dataframe tbody tr th {\n",
       "        vertical-align: top;\n",
       "    }\n",
       "</style>\n",
       "<table border=\"1\" class=\"dataframe\">\n",
       "  <thead>\n",
       "    <tr style=\"text-align: right;\">\n",
       "      <th></th>\n",
       "      <th>Name</th>\n",
       "      <th>Height</th>\n",
       "      <th>Weight</th>\n",
       "    </tr>\n",
       "  </thead>\n",
       "  <tbody>\n",
       "    <tr>\n",
       "      <th>0</th>\n",
       "      <td>佐藤</td>\n",
       "      <td>172</td>\n",
       "      <td>53</td>\n",
       "    </tr>\n",
       "    <tr>\n",
       "      <th>2</th>\n",
       "      <td>鈴木</td>\n",
       "      <td>165</td>\n",
       "      <td>58</td>\n",
       "    </tr>\n",
       "    <tr>\n",
       "      <th>3</th>\n",
       "      <td>中村</td>\n",
       "      <td>172</td>\n",
       "      <td>53</td>\n",
       "    </tr>\n",
       "    <tr>\n",
       "      <th>5</th>\n",
       "      <td>中山</td>\n",
       "      <td>165</td>\n",
       "      <td>58</td>\n",
       "    </tr>\n",
       "    <tr>\n",
       "      <th>6</th>\n",
       "      <td>鎌田</td>\n",
       "      <td>172</td>\n",
       "      <td>53</td>\n",
       "    </tr>\n",
       "    <tr>\n",
       "      <th>8</th>\n",
       "      <td>伊東</td>\n",
       "      <td>165</td>\n",
       "      <td>58</td>\n",
       "    </tr>\n",
       "  </tbody>\n",
       "</table>\n",
       "</div>"
      ],
      "text/plain": [
       "  Name  Height  Weight\n",
       "0   佐藤     172      53\n",
       "2   鈴木     165      58\n",
       "3   中村     172      53\n",
       "5   中山     165      58\n",
       "6   鎌田     172      53\n",
       "8   伊東     165      58"
      ]
     },
     "execution_count": 32,
     "metadata": {},
     "output_type": "execute_result"
    }
   ],
   "source": [
    "df_165 = df[df['Height'] >= 165]\n",
    "df_165"
   ]
  },
  {
   "cell_type": "code",
   "execution_count": 33,
   "metadata": {
    "collapsed": true
   },
   "outputs": [],
   "source": [
    "#　複数条件での絞り込み\n",
    "df_ans = df[(df['Height'] >= 165) & (df['Weight'] >= 55)]"
   ]
  },
  {
   "cell_type": "code",
   "execution_count": 35,
   "metadata": {},
   "outputs": [
    {
     "data": {
      "text/html": [
       "<div>\n",
       "<style>\n",
       "    .dataframe thead tr:only-child th {\n",
       "        text-align: right;\n",
       "    }\n",
       "\n",
       "    .dataframe thead th {\n",
       "        text-align: left;\n",
       "    }\n",
       "\n",
       "    .dataframe tbody tr th {\n",
       "        vertical-align: top;\n",
       "    }\n",
       "</style>\n",
       "<table border=\"1\" class=\"dataframe\">\n",
       "  <thead>\n",
       "    <tr style=\"text-align: right;\">\n",
       "      <th></th>\n",
       "      <th>Name</th>\n",
       "      <th>Height</th>\n",
       "      <th>Weight</th>\n",
       "    </tr>\n",
       "  </thead>\n",
       "  <tbody>\n",
       "    <tr>\n",
       "      <th>2</th>\n",
       "      <td>鈴木</td>\n",
       "      <td>165</td>\n",
       "      <td>58</td>\n",
       "    </tr>\n",
       "    <tr>\n",
       "      <th>5</th>\n",
       "      <td>中山</td>\n",
       "      <td>165</td>\n",
       "      <td>58</td>\n",
       "    </tr>\n",
       "    <tr>\n",
       "      <th>8</th>\n",
       "      <td>伊東</td>\n",
       "      <td>165</td>\n",
       "      <td>58</td>\n",
       "    </tr>\n",
       "  </tbody>\n",
       "</table>\n",
       "</div>"
      ],
      "text/plain": [
       "  Name  Height  Weight\n",
       "2   鈴木     165      58\n",
       "5   中山     165      58\n",
       "8   伊東     165      58"
      ]
     },
     "execution_count": 35,
     "metadata": {},
     "output_type": "execute_result"
    }
   ],
   "source": [
    "df_ans"
   ]
  },
  {
   "cell_type": "code",
   "execution_count": 36,
   "metadata": {
    "collapsed": true
   },
   "outputs": [],
   "source": [
    "# queryを使った、複数条件の絞り込み\n",
    "df_ans = df.query('Height >= 165 & Weight >= 55')"
   ]
  },
  {
   "cell_type": "code",
   "execution_count": 37,
   "metadata": {},
   "outputs": [
    {
     "data": {
      "text/html": [
       "<div>\n",
       "<style>\n",
       "    .dataframe thead tr:only-child th {\n",
       "        text-align: right;\n",
       "    }\n",
       "\n",
       "    .dataframe thead th {\n",
       "        text-align: left;\n",
       "    }\n",
       "\n",
       "    .dataframe tbody tr th {\n",
       "        vertical-align: top;\n",
       "    }\n",
       "</style>\n",
       "<table border=\"1\" class=\"dataframe\">\n",
       "  <thead>\n",
       "    <tr style=\"text-align: right;\">\n",
       "      <th></th>\n",
       "      <th>Name</th>\n",
       "      <th>Height</th>\n",
       "      <th>Weight</th>\n",
       "    </tr>\n",
       "  </thead>\n",
       "  <tbody>\n",
       "    <tr>\n",
       "      <th>2</th>\n",
       "      <td>鈴木</td>\n",
       "      <td>165</td>\n",
       "      <td>58</td>\n",
       "    </tr>\n",
       "    <tr>\n",
       "      <th>5</th>\n",
       "      <td>中山</td>\n",
       "      <td>165</td>\n",
       "      <td>58</td>\n",
       "    </tr>\n",
       "    <tr>\n",
       "      <th>8</th>\n",
       "      <td>伊東</td>\n",
       "      <td>165</td>\n",
       "      <td>58</td>\n",
       "    </tr>\n",
       "  </tbody>\n",
       "</table>\n",
       "</div>"
      ],
      "text/plain": [
       "  Name  Height  Weight\n",
       "2   鈴木     165      58\n",
       "5   中山     165      58\n",
       "8   伊東     165      58"
      ]
     },
     "execution_count": 37,
     "metadata": {},
     "output_type": "execute_result"
    }
   ],
   "source": [
    "df_ans"
   ]
  },
  {
   "cell_type": "code",
   "execution_count": 38,
   "metadata": {},
   "outputs": [
    {
     "data": {
      "text/html": [
       "<div>\n",
       "<style>\n",
       "    .dataframe thead tr:only-child th {\n",
       "        text-align: right;\n",
       "    }\n",
       "\n",
       "    .dataframe thead th {\n",
       "        text-align: left;\n",
       "    }\n",
       "\n",
       "    .dataframe tbody tr th {\n",
       "        vertical-align: top;\n",
       "    }\n",
       "</style>\n",
       "<table border=\"1\" class=\"dataframe\">\n",
       "  <thead>\n",
       "    <tr style=\"text-align: right;\">\n",
       "      <th></th>\n",
       "      <th>Name</th>\n",
       "      <th>Height</th>\n",
       "      <th>Weight</th>\n",
       "    </tr>\n",
       "  </thead>\n",
       "  <tbody>\n",
       "    <tr>\n",
       "      <th>0</th>\n",
       "      <td>佐藤</td>\n",
       "      <td>172</td>\n",
       "      <td>53</td>\n",
       "    </tr>\n",
       "  </tbody>\n",
       "</table>\n",
       "</div>"
      ],
      "text/plain": [
       "  Name  Height  Weight\n",
       "0   佐藤     172      53"
      ]
     },
     "execution_count": 38,
     "metadata": {},
     "output_type": "execute_result"
    }
   ],
   "source": [
    "# 文字列を使う場合はダブルクオテーション（\"\"）を使う\n",
    "df.query('Height >= 165 & Name == \"佐藤\"')"
   ]
  },
  {
   "cell_type": "code",
   "execution_count": 39,
   "metadata": {},
   "outputs": [
    {
     "data": {
      "text/html": [
       "<div>\n",
       "<style>\n",
       "    .dataframe thead tr:only-child th {\n",
       "        text-align: right;\n",
       "    }\n",
       "\n",
       "    .dataframe thead th {\n",
       "        text-align: left;\n",
       "    }\n",
       "\n",
       "    .dataframe tbody tr th {\n",
       "        vertical-align: top;\n",
       "    }\n",
       "</style>\n",
       "<table border=\"1\" class=\"dataframe\">\n",
       "  <thead>\n",
       "    <tr style=\"text-align: right;\">\n",
       "      <th></th>\n",
       "      <th>Name</th>\n",
       "      <th>Height</th>\n",
       "      <th>Weight</th>\n",
       "    </tr>\n",
       "  </thead>\n",
       "  <tbody>\n",
       "    <tr>\n",
       "      <th>0</th>\n",
       "      <td>佐藤</td>\n",
       "      <td>172</td>\n",
       "      <td>53</td>\n",
       "    </tr>\n",
       "  </tbody>\n",
       "</table>\n",
       "</div>"
      ],
      "text/plain": [
       "  Name  Height  Weight\n",
       "0   佐藤     172      53"
      ]
     },
     "execution_count": 39,
     "metadata": {},
     "output_type": "execute_result"
    }
   ],
   "source": [
    "# 変数をquery内で使うなら、@をつける\n",
    "target_name = \"佐藤\"\n",
    "df.query('Height >= 165 & Name == @target_name')"
   ]
  },
  {
   "cell_type": "code",
   "execution_count": null,
   "metadata": {
    "collapsed": true
   },
   "outputs": [],
   "source": []
  },
  {
   "cell_type": "code",
   "execution_count": null,
   "metadata": {
    "collapsed": true
   },
   "outputs": [],
   "source": []
  },
  {
   "cell_type": "code",
   "execution_count": null,
   "metadata": {
    "collapsed": true
   },
   "outputs": [],
   "source": []
  },
  {
   "cell_type": "markdown",
   "metadata": {},
   "source": [
    "## 8. Seriesで文字列を一括処理する方法を学ぼう"
   ]
  },
  {
   "cell_type": "code",
   "execution_count": 40,
   "metadata": {
    "collapsed": true
   },
   "outputs": [],
   "source": [
    "import pandas as pd"
   ]
  },
  {
   "cell_type": "code",
   "execution_count": 41,
   "metadata": {},
   "outputs": [
    {
     "data": {
      "text/html": [
       "<div>\n",
       "<style>\n",
       "    .dataframe thead tr:only-child th {\n",
       "        text-align: right;\n",
       "    }\n",
       "\n",
       "    .dataframe thead th {\n",
       "        text-align: left;\n",
       "    }\n",
       "\n",
       "    .dataframe tbody tr th {\n",
       "        vertical-align: top;\n",
       "    }\n",
       "</style>\n",
       "<table border=\"1\" class=\"dataframe\">\n",
       "  <thead>\n",
       "    <tr style=\"text-align: right;\">\n",
       "      <th></th>\n",
       "      <th>User</th>\n",
       "      <th>Rate</th>\n",
       "      <th>Comment</th>\n",
       "    </tr>\n",
       "  </thead>\n",
       "  <tbody>\n",
       "    <tr>\n",
       "      <th>0</th>\n",
       "      <td>user1</td>\n",
       "      <td>5</td>\n",
       "      <td>とても使いやすく書きやすいです。２本目を買いたいと思います。</td>\n",
       "    </tr>\n",
       "    <tr>\n",
       "      <th>1</th>\n",
       "      <td>user2</td>\n",
       "      <td>3</td>\n",
       "      <td>改善の余地あり。使い始めは良かったが、だんだんインクがかすれやすくなりました。</td>\n",
       "    </tr>\n",
       "    <tr>\n",
       "      <th>2</th>\n",
       "      <td>user3</td>\n",
       "      <td>2</td>\n",
       "      <td>左利きの私が使うとインクが上手く出てこないようです。残念です。</td>\n",
       "    </tr>\n",
       "    <tr>\n",
       "      <th>3</th>\n",
       "      <td>user4</td>\n",
       "      <td>4</td>\n",
       "      <td>概ね満足しています。書きやすく長く持ちます。価格もリーズナブルです。</td>\n",
       "    </tr>\n",
       "  </tbody>\n",
       "</table>\n",
       "</div>"
      ],
      "text/plain": [
       "    User  Rate                                  Comment\n",
       "0  user1     5           とても使いやすく書きやすいです。２本目を買いたいと思います。\n",
       "1  user2     3  改善の余地あり。使い始めは良かったが、だんだんインクがかすれやすくなりました。\n",
       "2  user3     2          左利きの私が使うとインクが上手く出てこないようです。残念です。\n",
       "3  user4     4       概ね満足しています。書きやすく長く持ちます。価格もリーズナブルです。"
      ]
     },
     "execution_count": 41,
     "metadata": {},
     "output_type": "execute_result"
    }
   ],
   "source": [
    "df = pd.read_csv('dataset/user.csv')\n",
    "df"
   ]
  },
  {
   "cell_type": "code",
   "execution_count": 43,
   "metadata": {},
   "outputs": [
    {
     "data": {
      "text/html": [
       "<div>\n",
       "<style>\n",
       "    .dataframe thead tr:only-child th {\n",
       "        text-align: right;\n",
       "    }\n",
       "\n",
       "    .dataframe thead th {\n",
       "        text-align: left;\n",
       "    }\n",
       "\n",
       "    .dataframe tbody tr th {\n",
       "        vertical-align: top;\n",
       "    }\n",
       "</style>\n",
       "<table border=\"1\" class=\"dataframe\">\n",
       "  <thead>\n",
       "    <tr style=\"text-align: right;\">\n",
       "      <th></th>\n",
       "      <th>User</th>\n",
       "      <th>Rate</th>\n",
       "      <th>Comment</th>\n",
       "      <th>CommentLen</th>\n",
       "    </tr>\n",
       "  </thead>\n",
       "  <tbody>\n",
       "    <tr>\n",
       "      <th>0</th>\n",
       "      <td>user1</td>\n",
       "      <td>5</td>\n",
       "      <td>とても使いやすく書きやすいです。２本目を買いたいと思います。</td>\n",
       "      <td>30</td>\n",
       "    </tr>\n",
       "    <tr>\n",
       "      <th>1</th>\n",
       "      <td>user2</td>\n",
       "      <td>3</td>\n",
       "      <td>改善の余地あり。使い始めは良かったが、だんだんインクがかすれやすくなりました。</td>\n",
       "      <td>39</td>\n",
       "    </tr>\n",
       "    <tr>\n",
       "      <th>2</th>\n",
       "      <td>user3</td>\n",
       "      <td>2</td>\n",
       "      <td>左利きの私が使うとインクが上手く出てこないようです。残念です。</td>\n",
       "      <td>31</td>\n",
       "    </tr>\n",
       "    <tr>\n",
       "      <th>3</th>\n",
       "      <td>user4</td>\n",
       "      <td>4</td>\n",
       "      <td>概ね満足しています。書きやすく長く持ちます。価格もリーズナブルです。</td>\n",
       "      <td>34</td>\n",
       "    </tr>\n",
       "  </tbody>\n",
       "</table>\n",
       "</div>"
      ],
      "text/plain": [
       "    User  Rate                                  Comment  CommentLen\n",
       "0  user1     5           とても使いやすく書きやすいです。２本目を買いたいと思います。          30\n",
       "1  user2     3  改善の余地あり。使い始めは良かったが、だんだんインクがかすれやすくなりました。          39\n",
       "2  user3     2          左利きの私が使うとインクが上手く出てこないようです。残念です。          31\n",
       "3  user4     4       概ね満足しています。書きやすく長く持ちます。価格もリーズナブルです。          34"
      ]
     },
     "execution_count": 43,
     "metadata": {},
     "output_type": "execute_result"
    }
   ],
   "source": [
    "df['CommentLen'] = df['Comment'].str.len()\n",
    "df"
   ]
  },
  {
   "cell_type": "code",
   "execution_count": 45,
   "metadata": {},
   "outputs": [
    {
     "data": {
      "text/html": [
       "<div>\n",
       "<style>\n",
       "    .dataframe thead tr:only-child th {\n",
       "        text-align: right;\n",
       "    }\n",
       "\n",
       "    .dataframe thead th {\n",
       "        text-align: left;\n",
       "    }\n",
       "\n",
       "    .dataframe tbody tr th {\n",
       "        vertical-align: top;\n",
       "    }\n",
       "</style>\n",
       "<table border=\"1\" class=\"dataframe\">\n",
       "  <thead>\n",
       "    <tr style=\"text-align: right;\">\n",
       "      <th></th>\n",
       "      <th>User</th>\n",
       "      <th>Rate</th>\n",
       "      <th>Comment</th>\n",
       "      <th>CommentLen</th>\n",
       "      <th>SlicedComment</th>\n",
       "    </tr>\n",
       "  </thead>\n",
       "  <tbody>\n",
       "    <tr>\n",
       "      <th>0</th>\n",
       "      <td>user1</td>\n",
       "      <td>5</td>\n",
       "      <td>とても使いやすく書きやすいです。２本目を買いたいと思います。</td>\n",
       "      <td>30</td>\n",
       "      <td>とても使いやすく書きやすいです</td>\n",
       "    </tr>\n",
       "    <tr>\n",
       "      <th>1</th>\n",
       "      <td>user2</td>\n",
       "      <td>3</td>\n",
       "      <td>改善の余地あり。使い始めは良かったが、だんだんインクがかすれやすくなりました。</td>\n",
       "      <td>39</td>\n",
       "      <td>改善の余地あり。使い始めは良か</td>\n",
       "    </tr>\n",
       "    <tr>\n",
       "      <th>2</th>\n",
       "      <td>user3</td>\n",
       "      <td>2</td>\n",
       "      <td>左利きの私が使うとインクが上手く出てこないようです。残念です。</td>\n",
       "      <td>31</td>\n",
       "      <td>左利きの私が使うとインクが上手</td>\n",
       "    </tr>\n",
       "    <tr>\n",
       "      <th>3</th>\n",
       "      <td>user4</td>\n",
       "      <td>4</td>\n",
       "      <td>概ね満足しています。書きやすく長く持ちます。価格もリーズナブルです。</td>\n",
       "      <td>34</td>\n",
       "      <td>概ね満足しています。書きやすく</td>\n",
       "    </tr>\n",
       "  </tbody>\n",
       "</table>\n",
       "</div>"
      ],
      "text/plain": [
       "    User  Rate                                  Comment  CommentLen  \\\n",
       "0  user1     5           とても使いやすく書きやすいです。２本目を買いたいと思います。          30   \n",
       "1  user2     3  改善の余地あり。使い始めは良かったが、だんだんインクがかすれやすくなりました。          39   \n",
       "2  user3     2          左利きの私が使うとインクが上手く出てこないようです。残念です。          31   \n",
       "3  user4     4       概ね満足しています。書きやすく長く持ちます。価格もリーズナブルです。          34   \n",
       "\n",
       "     SlicedComment  \n",
       "0  とても使いやすく書きやすいです  \n",
       "1  改善の余地あり。使い始めは良か  \n",
       "2  左利きの私が使うとインクが上手  \n",
       "3  概ね満足しています。書きやすく  "
      ]
     },
     "execution_count": 45,
     "metadata": {},
     "output_type": "execute_result"
    }
   ],
   "source": [
    "# 文字列の繰り返し\n",
    "sliced_list = []\n",
    "\n",
    "for row in df.itertuples():\n",
    "    sliced_list.append(row.Comment[:15])\n",
    "    \n",
    "df['SlicedComment'] = sliced_list\n",
    "df"
   ]
  },
  {
   "cell_type": "code",
   "execution_count": 46,
   "metadata": {
    "collapsed": true
   },
   "outputs": [],
   "source": [
    "# データ数が多く、処理が遅くなってしまうとき\n",
    "## _を使う慣習あり。ループ内で変数を使用していない時、便宜的に変数_を置く\n",
    "for _, row in df.iterrows():\n",
    "    assert row.Comment[:15] == row.SlicedComment"
   ]
  },
  {
   "cell_type": "code",
   "execution_count": 47,
   "metadata": {},
   "outputs": [
    {
     "data": {
      "text/html": [
       "<div>\n",
       "<style>\n",
       "    .dataframe thead tr:only-child th {\n",
       "        text-align: right;\n",
       "    }\n",
       "\n",
       "    .dataframe thead th {\n",
       "        text-align: left;\n",
       "    }\n",
       "\n",
       "    .dataframe tbody tr th {\n",
       "        vertical-align: top;\n",
       "    }\n",
       "</style>\n",
       "<table border=\"1\" class=\"dataframe\">\n",
       "  <thead>\n",
       "    <tr style=\"text-align: right;\">\n",
       "      <th></th>\n",
       "      <th>User</th>\n",
       "      <th>Rate</th>\n",
       "      <th>Comment</th>\n",
       "      <th>CommentLen</th>\n",
       "      <th>SlicedComment</th>\n",
       "    </tr>\n",
       "  </thead>\n",
       "  <tbody>\n",
       "    <tr>\n",
       "      <th>0</th>\n",
       "      <td>user1</td>\n",
       "      <td>5</td>\n",
       "      <td>とても使いやすく書きやすいです。２本目を買いたいと思います。</td>\n",
       "      <td>30</td>\n",
       "      <td>とても使いやすく書きやすいです</td>\n",
       "    </tr>\n",
       "    <tr>\n",
       "      <th>1</th>\n",
       "      <td>user2</td>\n",
       "      <td>3</td>\n",
       "      <td>改善の余地あり。使い始めは良かったが、だんだんインクがかすれやすくなりました。</td>\n",
       "      <td>39</td>\n",
       "      <td>改善の余地あり。使い始めは良か</td>\n",
       "    </tr>\n",
       "    <tr>\n",
       "      <th>2</th>\n",
       "      <td>user3</td>\n",
       "      <td>2</td>\n",
       "      <td>左利きの私が使うとインクが上手く出てこないようです。残念です。</td>\n",
       "      <td>31</td>\n",
       "      <td>左利きの私が使うとインクが上手</td>\n",
       "    </tr>\n",
       "    <tr>\n",
       "      <th>3</th>\n",
       "      <td>user4</td>\n",
       "      <td>4</td>\n",
       "      <td>概ね満足しています。書きやすく長く持ちます。価格もリーズナブルです。</td>\n",
       "      <td>34</td>\n",
       "      <td>概ね満足しています。書きやすく</td>\n",
       "    </tr>\n",
       "  </tbody>\n",
       "</table>\n",
       "</div>"
      ],
      "text/plain": [
       "    User  Rate                                  Comment  CommentLen  \\\n",
       "0  user1     5           とても使いやすく書きやすいです。２本目を買いたいと思います。          30   \n",
       "1  user2     3  改善の余地あり。使い始めは良かったが、だんだんインクがかすれやすくなりました。          39   \n",
       "2  user3     2          左利きの私が使うとインクが上手く出てこないようです。残念です。          31   \n",
       "3  user4     4       概ね満足しています。書きやすく長く持ちます。価格もリーズナブルです。          34   \n",
       "\n",
       "     SlicedComment  \n",
       "0  とても使いやすく書きやすいです  \n",
       "1  改善の余地あり。使い始めは良か  \n",
       "2  左利きの私が使うとインクが上手  \n",
       "3  概ね満足しています。書きやすく  "
      ]
     },
     "execution_count": 47,
     "metadata": {},
     "output_type": "execute_result"
    }
   ],
   "source": [
    "df"
   ]
  },
  {
   "cell_type": "code",
   "execution_count": 48,
   "metadata": {
    "collapsed": true
   },
   "outputs": [],
   "source": [
    "# 関数の作成\n",
    "def get_sliced_str(x):\n",
    "    return x[:15]"
   ]
  },
  {
   "cell_type": "code",
   "execution_count": 49,
   "metadata": {},
   "outputs": [
    {
     "data": {
      "text/html": [
       "<div>\n",
       "<style>\n",
       "    .dataframe thead tr:only-child th {\n",
       "        text-align: right;\n",
       "    }\n",
       "\n",
       "    .dataframe thead th {\n",
       "        text-align: left;\n",
       "    }\n",
       "\n",
       "    .dataframe tbody tr th {\n",
       "        vertical-align: top;\n",
       "    }\n",
       "</style>\n",
       "<table border=\"1\" class=\"dataframe\">\n",
       "  <thead>\n",
       "    <tr style=\"text-align: right;\">\n",
       "      <th></th>\n",
       "      <th>User</th>\n",
       "      <th>Rate</th>\n",
       "      <th>Comment</th>\n",
       "      <th>CommentLen</th>\n",
       "      <th>SlicedComment</th>\n",
       "      <th>SliceCommnet</th>\n",
       "    </tr>\n",
       "  </thead>\n",
       "  <tbody>\n",
       "    <tr>\n",
       "      <th>0</th>\n",
       "      <td>user1</td>\n",
       "      <td>5</td>\n",
       "      <td>とても使いやすく書きやすいです。２本目を買いたいと思います。</td>\n",
       "      <td>30</td>\n",
       "      <td>とても使いやすく書きやすいです</td>\n",
       "      <td>とても使いやすく書きやすいです</td>\n",
       "    </tr>\n",
       "    <tr>\n",
       "      <th>1</th>\n",
       "      <td>user2</td>\n",
       "      <td>3</td>\n",
       "      <td>改善の余地あり。使い始めは良かったが、だんだんインクがかすれやすくなりました。</td>\n",
       "      <td>39</td>\n",
       "      <td>改善の余地あり。使い始めは良か</td>\n",
       "      <td>改善の余地あり。使い始めは良か</td>\n",
       "    </tr>\n",
       "    <tr>\n",
       "      <th>2</th>\n",
       "      <td>user3</td>\n",
       "      <td>2</td>\n",
       "      <td>左利きの私が使うとインクが上手く出てこないようです。残念です。</td>\n",
       "      <td>31</td>\n",
       "      <td>左利きの私が使うとインクが上手</td>\n",
       "      <td>左利きの私が使うとインクが上手</td>\n",
       "    </tr>\n",
       "    <tr>\n",
       "      <th>3</th>\n",
       "      <td>user4</td>\n",
       "      <td>4</td>\n",
       "      <td>概ね満足しています。書きやすく長く持ちます。価格もリーズナブルです。</td>\n",
       "      <td>34</td>\n",
       "      <td>概ね満足しています。書きやすく</td>\n",
       "      <td>概ね満足しています。書きやすく</td>\n",
       "    </tr>\n",
       "  </tbody>\n",
       "</table>\n",
       "</div>"
      ],
      "text/plain": [
       "    User  Rate                                  Comment  CommentLen  \\\n",
       "0  user1     5           とても使いやすく書きやすいです。２本目を買いたいと思います。          30   \n",
       "1  user2     3  改善の余地あり。使い始めは良かったが、だんだんインクがかすれやすくなりました。          39   \n",
       "2  user3     2          左利きの私が使うとインクが上手く出てこないようです。残念です。          31   \n",
       "3  user4     4       概ね満足しています。書きやすく長く持ちます。価格もリーズナブルです。          34   \n",
       "\n",
       "     SlicedComment     SliceCommnet  \n",
       "0  とても使いやすく書きやすいです  とても使いやすく書きやすいです  \n",
       "1  改善の余地あり。使い始めは良か  改善の余地あり。使い始めは良か  \n",
       "2  左利きの私が使うとインクが上手  左利きの私が使うとインクが上手  \n",
       "3  概ね満足しています。書きやすく  概ね満足しています。書きやすく  "
      ]
     },
     "execution_count": 49,
     "metadata": {},
     "output_type": "execute_result"
    }
   ],
   "source": [
    "# Series.apply()でも、高速に処理ができる\n",
    "df['SliceCommnet'] =df['Comment'].apply(get_sliced_str)\n",
    "df"
   ]
  },
  {
   "cell_type": "code",
   "execution_count": null,
   "metadata": {
    "collapsed": true
   },
   "outputs": [],
   "source": []
  }
 ],
 "metadata": {
  "kernelspec": {
   "display_name": "Python 3",
   "language": "python",
   "name": "python3"
  },
  "language_info": {
   "codemirror_mode": {
    "name": "ipython",
    "version": 3
   },
   "file_extension": ".py",
   "mimetype": "text/x-python",
   "name": "python",
   "nbconvert_exporter": "python",
   "pygments_lexer": "ipython3",
   "version": "3.6.1"
  }
 },
 "nbformat": 4,
 "nbformat_minor": 2
}
